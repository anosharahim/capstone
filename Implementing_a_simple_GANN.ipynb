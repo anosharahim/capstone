{
  "nbformat": 4,
  "nbformat_minor": 0,
  "metadata": {
    "colab": {
      "name": "Implementing a simple GANN ",
      "provenance": [],
      "authorship_tag": "ABX9TyN4nPNp6WonKdhOQlls6LOk",
      "include_colab_link": true
    },
    "kernelspec": {
      "name": "python3",
      "display_name": "Python 3"
    },
    "language_info": {
      "name": "python"
    }
  },
  "cells": [
    {
      "cell_type": "markdown",
      "metadata": {
        "id": "view-in-github",
        "colab_type": "text"
      },
      "source": [
        "<a href=\"https://colab.research.google.com/github/anosharahim/capstone/blob/master/Implementing_a_simple_GANN.ipynb\" target=\"_parent\"><img src=\"https://colab.research.google.com/assets/colab-badge.svg\" alt=\"Open In Colab\"/></a>"
      ]
    },
    {
      "cell_type": "code",
      "metadata": {
        "id": "Zio6snHM2AUD",
        "colab": {
          "base_uri": "https://localhost:8080/"
        },
        "outputId": "f3dff6ce-ee9f-495e-fe92-059b785d5b91"
      },
      "source": [
        "import tensorflow.compat.v1 as tf\n",
        "tf.disable_v2_behavior()"
      ],
      "execution_count": null,
      "outputs": [
        {
          "output_type": "stream",
          "name": "stdout",
          "text": [
            "WARNING:tensorflow:From /usr/local/lib/python3.7/dist-packages/tensorflow/python/compat/v2_compat.py:101: disable_resource_variables (from tensorflow.python.ops.variable_scope) is deprecated and will be removed in a future version.\n",
            "Instructions for updating:\n",
            "non-resource variables are not supported in the long term\n"
          ]
        }
      ]
    },
    {
      "cell_type": "code",
      "metadata": {
        "id": "R-sMgPyXCsl_"
      },
      "source": [
        "import numpy as np\n",
        "#generate data\n",
        "def get_y(x):\n",
        "    return 10 + x*x\n",
        "def sample_data(n=10000, scale=100):\n",
        "    data = []\n",
        "    x = scale*(np.random.random_sample((n,))-0.5)\n",
        "    for i in range(n):\n",
        "        yi = get_y(x[i])\n",
        "        data.append([x[i], yi])\n",
        "    return np.array(data)"
      ],
      "execution_count": null,
      "outputs": []
    },
    {
      "cell_type": "code",
      "metadata": {
        "id": "iEYGArbrDTuJ"
      },
      "source": [
        "#define generative network \n",
        "def generator(Z,hsize=[16, 16],reuse=False):\n",
        "    with tf.variable_scope(\"GAN/Generator\",reuse=reuse):\n",
        "        h1 = tf.layers.dense(Z,hsize[0],activation=tf.nn.leaky_relu)\n",
        "        h2 = tf.layers.dense(h1,hsize[1],activation=tf.nn.leaky_relu)\n",
        "        out = tf.layers.dense(h2,2)\n",
        "    return out"
      ],
      "execution_count": null,
      "outputs": []
    },
    {
      "cell_type": "code",
      "metadata": {
        "id": "c74xq68zDWPp"
      },
      "source": [
        "#define discriminative network\n",
        "def discriminator(X,hsize=[16, 16],reuse=False):\n",
        "    with tf.variable_scope(\"GAN/Discriminator\",reuse=reuse):\n",
        "        h1 = tf.layers.dense(X,hsize[0],activation=tf.nn.leaky_relu)\n",
        "        h2 = tf.layers.dense(h1,hsize[1],activation=tf.nn.leaky_relu)\n",
        "        h3 = tf.layers.dense(h2,2)\n",
        "        out = tf.layers.dense(h3,1)\n",
        "    return out, h3"
      ],
      "execution_count": null,
      "outputs": []
    },
    {
      "cell_type": "code",
      "metadata": {
        "colab": {
          "base_uri": "https://localhost:8080/"
        },
        "id": "yzx4IKByDXoF",
        "outputId": "368bf3b5-980b-4596-b837-757aa7a1ecf5"
      },
      "source": [
        "#placeholders for real and fake data\n",
        "X = tf.placeholder(tf.float32,[None,2])\n",
        "Z = tf.placeholder(tf.float32,[None,2])\n",
        "G_sample = generator(Z)\n",
        "#create logits for generated and real data\n",
        "r_logits, r_rep = discriminator(X)\n",
        "f_logits, g_rep = discriminator(G_sample,reuse=True)\n",
        "#loss functions\n",
        "disc_loss = tf.reduce_mean(tf.nn.sigmoid_cross_entropy_with_logits(logits=r_logits,labels=tf.ones_like(r_logits)) + tf.nn.sigmoid_cross_entropy_with_logits(logits=f_logits,labels=tf.zeros_like(f_logits)))\n",
        "gen_loss = tf.reduce_mean(tf.nn.sigmoid_cross_entropy_with_logits(logits=f_logits,labels=tf.ones_like(f_logits)))\n",
        "#get optimizers\n",
        "gen_vars = tf.get_collection(tf.GraphKeys.GLOBAL_VARIABLES,scope=\"GAN/Generator\")\n",
        "disc_vars = tf.get_collection(tf.GraphKeys.GLOBAL_VARIABLES,scope=\"GAN/Discriminator\")\n",
        "gen_step = tf.train.RMSPropOptimizer(learning_rate=0.001).minimize(gen_loss,var_list = gen_vars) # G Train step\n",
        "disc_step = tf.train.RMSPropOptimizer(learning_rate=0.001).minimize(disc_loss,var_list = disc_vars) # D Train step\n"
      ],
      "execution_count": null,
      "outputs": [
        {
          "output_type": "stream",
          "name": "stderr",
          "text": [
            "/usr/local/lib/python3.7/dist-packages/keras/legacy_tf_layers/core.py:236: UserWarning: `tf.layers.dense` is deprecated and will be removed in a future version. Please use `tf.keras.layers.Dense` instead.\n",
            "  warnings.warn('`tf.layers.dense` is deprecated and '\n",
            "/usr/local/lib/python3.7/dist-packages/keras/engine/base_layer_v1.py:1676: UserWarning: `layer.apply` is deprecated and will be removed in a future version. Please use `layer.__call__` method instead.\n",
            "  warnings.warn('`layer.apply` is deprecated and '\n"
          ]
        },
        {
          "output_type": "stream",
          "name": "stdout",
          "text": [
            "WARNING:tensorflow:From /usr/local/lib/python3.7/dist-packages/tensorflow/python/training/rmsprop.py:123: calling Ones.__init__ (from tensorflow.python.ops.init_ops) with dtype is deprecated and will be removed in a future version.\n",
            "Instructions for updating:\n",
            "Call initializer instance with the dtype argument instead of passing it to the constructor\n"
          ]
        }
      ]
    },
    {
      "cell_type": "code",
      "metadata": {
        "id": "pDeXN_-eEem0"
      },
      "source": [
        ""
      ],
      "execution_count": null,
      "outputs": []
    }
  ]
}