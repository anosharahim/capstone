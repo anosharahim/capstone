{
 "cells": [
  {
   "cell_type": "code",
   "execution_count": 14,
   "id": "2525c7f9",
   "metadata": {},
   "outputs": [
    {
     "name": "stdout",
     "output_type": "stream",
     "text": [
      "train_files -- ['happy', 'sad', 'fearful', 'neutral', 'angry', 'disgusted', 'surprised']\n",
      "test_files  -- ['happy', 'sad', 'fearful', 'neutral', 'angry', 'disgusted', 'surprised']\n"
     ]
    }
   ],
   "source": [
    "import numpy as np\n",
    "import pandas as pd\n",
    "import matplotlib.pyplot as plt\n",
    "import imageio\n",
    "import os\n",
    "\n",
    "root_dir = '../archive/'\n",
    "train_dir = root_dir + 'train/'\n",
    "test_dir = root_dir + 'test/'\n",
    "train_files = os.listdir(train_dir)\n",
    "test_files = os.listdir(test_dir)\n",
    "\n",
    "for item in range(len(train_files)-1):\n",
    "    if train_files[item].startswith('.'):\n",
    "        train_files.pop(item)\n",
    "    if test_files[item].startswith('.'):\n",
    "        test_files.pop(item)\n",
    "        \n",
    "print('train_files --',train_files)\n",
    "print('test_files  --',test_files)"
   ]
  },
  {
   "cell_type": "code",
   "execution_count": 38,
   "id": "a7333276",
   "metadata": {},
   "outputs": [
    {
     "name": "stdout",
     "output_type": "stream",
     "text": [
      "Collecting imageio\n",
      "  Downloading imageio-2.9.0-py3-none-any.whl (3.3 MB)\n",
      "\u001b[K     |████████████████████████████████| 3.3 MB 8.3 MB/s eta 0:00:01\n",
      "\u001b[?25hRequirement already satisfied: numpy in /opt/homebrew/Caskroom/miniconda/base/lib/python3.8/site-packages (from imageio) (1.19.5)\n",
      "Requirement already satisfied: pillow in /opt/homebrew/Caskroom/miniconda/base/lib/python3.8/site-packages (from imageio) (8.3.2)\n",
      "Installing collected packages: imageio\n",
      "Successfully installed imageio-2.9.0\n"
     ]
    }
   ],
   "source": [
    "!pip install imageio"
   ]
  },
  {
   "cell_type": "code",
   "execution_count": 50,
   "id": "cbe656e9",
   "metadata": {},
   "outputs": [
    {
     "data": {
      "text/plain": [
       "Array([254, 255, 249, ..., 141, 151,  80], dtype=uint8)"
      ]
     },
     "execution_count": 50,
     "metadata": {},
     "output_type": "execute_result"
    }
   ],
   "source": [
    "#samples from each category of emotion and puts them in a dictionary for test and train set\n",
    "\n",
    "def get_images(train_dir, test_dir):\n",
    "    train_emo = {}\n",
    "    test_emo = {}\n",
    "    for emotion in train_files:\n",
    "        path = train_dir + '{}/'.format(emotion)\n",
    "        files = os.listdir(path)\n",
    "        train_emo[emotion] = files[:20]\n",
    "    for emotion in test_files:\n",
    "        path = test_dir + '{}/'.format(emotion)\n",
    "        files = os.listdir(path)\n",
    "        test_emo[emotion] = files[:20]\n",
    "    return test_emo, train_emo\n",
    "\n",
    "tr, ts = get_images(train_dir, test_dir) #dictionaries of image paths with labels \n",
    "\n",
    "tr.keys()\n",
    "#def png_to_np(dictionary):\n",
    "    \n",
    "\n",
    "\n",
    "#im = imageio.imread(train_dir+'surprised/im2714.png')\n",
    "    \n",
    "im.flatten()\n"
   ]
  },
  {
   "cell_type": "code",
   "execution_count": null,
   "id": "83c67d82",
   "metadata": {},
   "outputs": [],
   "source": [
    "\n"
   ]
  },
  {
   "cell_type": "code",
   "execution_count": null,
   "id": "cafa3ba2",
   "metadata": {},
   "outputs": [],
   "source": []
  },
  {
   "cell_type": "code",
   "execution_count": null,
   "id": "30ab8959",
   "metadata": {
    "scrolled": true
   },
   "outputs": [],
   "source": []
  },
  {
   "cell_type": "code",
   "execution_count": null,
   "id": "3fa18a7e",
   "metadata": {},
   "outputs": [],
   "source": []
  },
  {
   "cell_type": "code",
   "execution_count": null,
   "id": "b5f5df5b",
   "metadata": {},
   "outputs": [],
   "source": []
  }
 ],
 "metadata": {
  "kernelspec": {
   "display_name": "Python 3 (ipykernel)",
   "language": "python",
   "name": "python3"
  },
  "language_info": {
   "codemirror_mode": {
    "name": "ipython",
    "version": 3
   },
   "file_extension": ".py",
   "mimetype": "text/x-python",
   "name": "python",
   "nbconvert_exporter": "python",
   "pygments_lexer": "ipython3",
   "version": "3.8.5"
  }
 },
 "nbformat": 4,
 "nbformat_minor": 5
}
