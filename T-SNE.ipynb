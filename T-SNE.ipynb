{
 "cells": [
  {
   "cell_type": "code",
   "execution_count": 43,
   "id": "2525c7f9",
   "metadata": {},
   "outputs": [
    {
     "name": "stdout",
     "output_type": "stream",
     "text": [
      "train_files -- ['happy', 'sad', 'fearful', 'neutral', 'angry', 'disgusted', 'surprised']\n",
      "test_files  -- ['happy', 'sad', 'fearful', 'neutral', 'angry', 'disgusted', 'surprised']\n"
     ]
    }
   ],
   "source": [
    "import numpy as np\n",
    "import pandas as pd\n",
    "import matplotlib.pyplot as plt\n",
    "import imageio\n",
    "import os\n",
    "from sklearn.manifold import TSNE\n",
    "import seaborn as sns\n",
    "\n",
    "root_dir = '../archive/'\n",
    "train_dir = root_dir + 'train/'\n",
    "test_dir = root_dir + 'test/'\n",
    "train_files = os.listdir(train_dir)\n",
    "test_files = os.listdir(test_dir)\n",
    "\n",
    "for item in range(len(train_files)-1):\n",
    "    if train_files[item].startswith('.'):\n",
    "        train_files.pop(item)\n",
    "    if test_files[item].startswith('.'):\n",
    "        test_files.pop(item)\n",
    "        \n",
    "print('train_files --',train_files)\n",
    "print('test_files  --',test_files)"
   ]
  },
  {
   "cell_type": "code",
   "execution_count": 30,
   "id": "cbe656e9",
   "metadata": {},
   "outputs": [],
   "source": [
    "def get_images(train_dir, test_dir, N): \n",
    "    #returns a training and test dictionary of image paths in png\n",
    "    #where keys are labels and values are lists of N number of image paths\n",
    "    train_emo = {}\n",
    "    test_emo = {}\n",
    "    for emotion in train_files:\n",
    "        path = train_dir + '{}/'.format(emotion)\n",
    "        files = os.listdir(path)\n",
    "        train_emo[emotion] = files[:N]\n",
    "    for emoti in test_files:\n",
    "        pth = test_dir + '{}/'.format(emoti)\n",
    "        fls = os.listdir(pth)\n",
    "        test_emo[emoti] = fls[:N]\n",
    "    return test_emo, train_emo\n",
    "\n",
    "def png_to_np(directory, dictionary):\n",
    "    #returns an np array of images where rows are flattened image arrays\n",
    "    #and columns are features (flattened)\n",
    "    labels = dictionary.keys()\n",
    "    img_nps = np.zeros((2304,), dtype=int)\n",
    "    for i in labels: #for each emotion\n",
    "        for image in dictionary[i]:\n",
    "            \n",
    "            arr = imageio.imread(directory + i + '/'+image)\n",
    "            flat_arr = arr.flatten()\n",
    "            img_nps = np.vstack((img_nps,flat_arr))\n",
    "    img_nps = np.delete(img_nps,0,0)\n",
    "    return img_nps\n",
    "            \n",
    "\n",
    "tr, ts = get_images(train_dir, test_dir, N=10) #dictionaries of image paths with labels \n",
    "tr_imgs = png_to_np(train_dir, tr)\n",
    "#test_images = png_to_np(test_dir, ts) ###problem with loading this \n",
    "y = np.arange(7) #emotion labels\n",
    "\n"
   ]
  },
  {
   "cell_type": "code",
   "execution_count": 35,
   "id": "59f9bfde",
   "metadata": {},
   "outputs": [
    {
     "name": "stdout",
     "output_type": "stream",
     "text": [
      "[0 1 2 3 4 5 6]\n",
      "[[ 67  65  50 ... 193 255 252]\n",
      " [226 226 227 ... 180 183 192]\n",
      " [ 51  52  52 ... 216 217 218]\n",
      " ...\n",
      " [130 130 131 ... 155 155 154]\n",
      " [255 216 207 ... 131 116  65]\n",
      " [190 185 186 ... 150 154 152]]\n"
     ]
    }
   ],
   "source": [
    "print(y)\n",
    "print(tr_imgs)"
   ]
  },
  {
   "cell_type": "code",
   "execution_count": 47,
   "id": "68165cee",
   "metadata": {},
   "outputs": [
    {
     "data": {
      "text/plain": [
       "array([[ 2.76448002e+01,  5.10569191e+01],\n",
       "       [-3.26317139e+01,  1.87330933e+01],\n",
       "       [ 3.61400032e+01, -3.82650185e+01],\n",
       "       [ 1.38737688e+01,  5.82009363e+00],\n",
       "       [-4.63274155e+01,  2.26455364e+01],\n",
       "       [-4.88503265e+01,  4.19545822e+01],\n",
       "       [ 4.68542099e+00,  5.83623886e+01],\n",
       "       [-4.96707954e+01, -1.40050440e+01],\n",
       "       [ 1.27148399e+01,  5.14634666e+01],\n",
       "       [-8.98220158e+00, -4.81006508e+01],\n",
       "       [ 4.72787094e+00,  4.14505501e+01],\n",
       "       [-2.90026512e+01, -9.06290817e+00],\n",
       "       [-9.16598511e+00, -2.56517239e+01],\n",
       "       [-5.41558495e+01, -2.89382324e+01],\n",
       "       [-2.02042866e+01,  1.89670715e+01],\n",
       "       [ 1.29459305e+01,  3.08653622e+01],\n",
       "       [-6.99487448e+00,  6.37132912e+01],\n",
       "       [-1.24360914e+01, -3.82851486e+01],\n",
       "       [-3.32883720e+01,  5.11042252e+01],\n",
       "       [-5.37631750e+00, -1.25418081e+01],\n",
       "       [-3.74909668e+01, -3.69454422e+01],\n",
       "       [-1.51352949e+01, -2.01583171e+00],\n",
       "       [ 2.57980595e+01,  4.27698183e+00],\n",
       "       [-8.82924199e-01, -3.46050568e+01],\n",
       "       [-2.53731575e+01,  4.86533642e+00],\n",
       "       [ 1.81730843e+01, -5.08060036e+01],\n",
       "       [ 2.06926365e+01, -9.41908455e+00],\n",
       "       [-2.43002148e+01, -6.44449158e+01],\n",
       "       [ 2.07080975e+01,  6.93116760e+01],\n",
       "       [-4.93799865e-01,  8.26470184e+01],\n",
       "       [ 2.16925831e+01, -6.43384247e+01],\n",
       "       [-2.18649349e+01,  4.47122879e+01],\n",
       "       [-3.14048767e+01,  6.90816879e+01],\n",
       "       [-1.38206053e+01,  1.17475166e+01],\n",
       "       [ 2.05397816e+01, -3.41670876e+01],\n",
       "       [ 9.45326805e+00, -7.22758627e+00],\n",
       "       [-1.18937206e+01,  2.82498341e+01],\n",
       "       [-1.42582095e+00,  1.31986027e+01],\n",
       "       [-3.48846664e+01, -5.27671890e+01],\n",
       "       [ 1.33326149e+01,  1.47048454e+01],\n",
       "       [-1.33747597e+01,  5.06841087e+01],\n",
       "       [-3.64928551e+01,  3.50834541e+01],\n",
       "       [-8.25890899e-01,  3.16068001e+01],\n",
       "       [-2.11769829e+01,  5.99966431e+01],\n",
       "       [ 3.00736284e+00,  7.13960266e+01],\n",
       "       [-2.32356572e+00, -5.50045738e+01],\n",
       "       [-2.15743599e+01, -2.82563953e+01],\n",
       "       [-1.69221096e+01, -1.49769812e+01],\n",
       "       [-4.31747484e+00,  5.04341049e+01],\n",
       "       [ 1.60305004e+01, -2.11823368e+01],\n",
       "       [-1.61085110e+01,  7.30556488e+01],\n",
       "       [ 1.54784942e+00, -2.16459064e+01],\n",
       "       [ 2.62480030e+01,  3.02066936e+01],\n",
       "       [-3.38594055e+01, -2.10715199e+01],\n",
       "       [ 9.16055489e+00, -6.27970848e+01],\n",
       "       [ 9.75850868e+00, -7.76983261e+01],\n",
       "       [-3.99830842e+00, -6.90069962e+01],\n",
       "       [-9.40708065e+00,  4.01200485e+01],\n",
       "       [ 6.52579260e+00, -4.38082352e+01],\n",
       "       [-2.19705868e+01,  3.47618141e+01],\n",
       "       [-4.26822891e+01,  7.84035254e+00],\n",
       "       [-1.90162334e+01, -5.02498474e+01],\n",
       "       [ 3.15720253e+01, -5.26072502e+01],\n",
       "       [ 3.78779793e+01, -9.93540955e+00],\n",
       "       [-2.37641811e+01, -4.03727455e+01],\n",
       "       [-3.44915986e-01, -5.39723970e-03],\n",
       "       [ 2.88233013e+01, -2.16516685e+01],\n",
       "       [ 9.68979168e+00, -3.00796776e+01],\n",
       "       [-1.27195129e+01, -5.92397118e+01],\n",
       "       [ 4.17193108e+01,  9.46141815e+00]], dtype=float32)"
      ]
     },
     "execution_count": 47,
     "metadata": {},
     "output_type": "execute_result"
    }
   ],
   "source": [
    "m = TSNE(learning_rate=200)\n",
    "TSNE_features =m.fit_transform(tr_imgs)\n",
    "TSNE_features"
   ]
  },
  {
   "cell_type": "code",
   "execution_count": 48,
   "id": "afc32cd1",
   "metadata": {},
   "outputs": [
    {
     "name": "stderr",
     "output_type": "stream",
     "text": [
      "/opt/homebrew/Caskroom/miniconda/base/lib/python3.8/site-packages/seaborn/_decorators.py:36: FutureWarning: Pass the following variables as keyword args: x, y. From version 0.12, the only valid positional argument will be `data`, and passing other arguments without an explicit keyword will result in an error or misinterpretation.\n",
      "  warnings.warn(\n"
     ]
    },
    {
     "data": {
      "text/plain": [
       "<AxesSubplot:>"
      ]
     },
     "execution_count": 48,
     "metadata": {},
     "output_type": "execute_result"
    },
    {
     "data": {
      "image/png": "[encoded data removed]",
      "text/plain": [
       "<Figure size 432x288 with 1 Axes>"
      ]
     },
     "metadata": {
      "needs_background": "light"
     },
     "output_type": "display_data"
    }
   ],
   "source": [
    "a = TSNE_features[:,0]\n",
    "b = TSNE_features[:,1]\n",
    "sns.scatterplot(a,b)"
   ]
  },
  {
   "cell_type": "code",
   "execution_count": null,
   "id": "38060f53",
   "metadata": {},
   "outputs": [],
   "source": []
  }
 ],
 "metadata": {
  "kernelspec": {
   "display_name": "Python 3 (ipykernel)",
   "language": "python",
   "name": "python3"
  },
  "language_info": {
   "codemirror_mode": {
    "name": "ipython",
    "version": 3
   },
   "file_extension": ".py",
   "mimetype": "text/x-python",
   "name": "python",
   "nbconvert_exporter": "python",
   "pygments_lexer": "ipython3",
   "version": "3.8.5"
  }
 },
 "nbformat": 4,
 "nbformat_minor": 5
}
