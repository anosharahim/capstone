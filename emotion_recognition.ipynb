{
  "nbformat": 4,
  "nbformat_minor": 0,
  "metadata": {
    "colab": {
      "name": "emotion_recognition.ipynb",
      "provenance": [],
      "mount_file_id": "https://github.com/anosharahim/capstone/blob/master/emotion_recognition.ipynb",
      "authorship_tag": "ABX9TyPqaLWeMJEF2JPRnMQoXDPQ",
      "include_colab_link": true
    },
    "kernelspec": {
      "name": "python3",
      "display_name": "Python 3"
    },
    "language_info": {
      "name": "python"
    }
  },
  "cells": [
    {
      "cell_type": "markdown",
      "metadata": {
        "id": "view-in-github",
        "colab_type": "text"
      },
      "source": [
        "<a href=\"https://colab.research.google.com/github/anosharahim/capstone/blob/master/emotion_recognition.ipynb\" target=\"_parent\"><img src=\"https://colab.research.google.com/assets/colab-badge.svg\" alt=\"Open In Colab\"/></a>"
      ]
    },
    {
      "cell_type": "code",
      "source": [
        "from google.colab import drive\n",
        "drive.mount('/gdrive')\n",
        "%cd /gdrive"
      ],
      "metadata": {
        "colab": {
          "base_uri": "https://localhost:8080/"
        },
        "id": "HjyI19r4OZLR",
        "outputId": "ef0916b7-5628-4ef9-cc2e-b78d4cfb456c"
      },
      "execution_count": 1,
      "outputs": [
        {
          "output_type": "stream",
          "name": "stdout",
          "text": [
            "Mounted at /gdrive\n",
            "/gdrive\n"
          ]
        }
      ]
    },
    {
      "cell_type": "code",
      "source": [
        "import pandas as pd\n",
        "import os\n",
        "import imageio\n",
        "import numpy as np"
      ],
      "metadata": {
        "id": "aWCKXbRvOaUU"
      },
      "execution_count": 11,
      "outputs": []
    },
    {
      "cell_type": "code",
      "source": [
        "#zipped_path = '/content/drive/MyDrive/Capstone/datasets/archive.zip'\n",
        "#target_path = \"/content/drive/MyDrive/Capstone/FER2013'\n",
        "#unzip and extract files to gdrive\n",
        "#!unzip zipped_path -d target_path"
      ],
      "metadata": {
        "id": "LeQxFlq2TNsZ"
      },
      "execution_count": 4,
      "outputs": []
    },
    {
      "cell_type": "code",
      "source": [
        "train_path = '/content/drive/MyDrive/Capstone/FER2013/train/'\n",
        "test_path = '/content/drive/MyDrive/Capstone/FER2013/test/'\n",
        "\n",
        "train_data = []\n",
        "train_label = []\n",
        "test_data = []\n",
        "test_label = []\n",
        "\n",
        "num_expressions = 6\n",
        "labels = ['angry', 'Fear', 'Happy', 'Neutral', 'Sad', 'Surprise']\n"
      ],
      "metadata": {
        "id": "M6u_b4PSWuig"
      },
      "execution_count": 3,
      "outputs": []
    },
    {
      "cell_type": "code",
      "source": [
        "categories = os.listdir(train_path)"
      ],
      "metadata": {
        "id": "IGzINe83aUnz"
      },
      "execution_count": 11,
      "outputs": []
    },
    {
      "cell_type": "code",
      "source": [
        "#keep track of y labels \n",
        "emotion_dictionary = {'angry':0, 'disgusted':1, 'fearful':2, 'happy':3, 'neutral':4, 'sad':5, 'surprised':6}\n",
        "\n",
        "for emotion in os.listdir(train_path): \n",
        "  emotion_label = emotion_dictionary[emotion]\n",
        "  folder_path = train_path + emotion + '/'\n",
        "  for image in os.listdir(folder_path):\n",
        "    image_file = folder_path + image \n",
        "    image_array = imageio.imread(image_file) #get image array from file \n",
        "    image_array = np.array(image_array) #convert to numpy array \n",
        "    #add image array and it's label to respective folders \n",
        "    train_data.append(image_array)\n",
        "    train_label.append(emotion_label)\n",
        "\n",
        "for emotion in os.listdir(test_path): \n",
        "  emotion_label = emotion_dictionary[emotion]\n",
        "  folder_path = test_path + emotion + '/'\n",
        "  for image in os.listdir(folder_path):\n",
        "    image_file = folder_path + image \n",
        "    image_array = imageio.imread(image_file)\n",
        "    image_array = np.array(image_array)\n",
        "    test_data.append(image_array)\n",
        "    test_label.append(emotion_label)\n",
        "\n",
        "#convert x and y to numpy arrays \n",
        "train_data = np.array(train_data) \n",
        "test_data = np.array(test_data)\n",
        "train_label = np.array(train_label) \n",
        "test_label = np.array(test_label)"
      ],
      "metadata": {
        "id": "dIYjwohdaXro"
      },
      "execution_count": 13,
      "outputs": []
    },
    {
      "cell_type": "code",
      "source": [
        "def unison_shuffled_copies(a, b):\n",
        "    assert len(a) == len(b)\n",
        "    p = numpy.random.permutation(len(a))\n",
        "    return a[p], b[p]\n",
        "\n",
        "train_data, train_label = unison_shuffled_copies(train_data, train_label)\n",
        "test_data, test_label = unison_shuffled_copies(test_data, test_label)"
      ],
      "metadata": {
        "id": "7KvNRFIweb_S"
      },
      "execution_count": 20,
      "outputs": []
    },
    {
      "cell_type": "code",
      "source": [
        "from sklearn.decomposition import PCA"
      ],
      "metadata": {
        "id": "7J6ms6f-dJOa"
      },
      "execution_count": null,
      "outputs": []
    }
  ]
}