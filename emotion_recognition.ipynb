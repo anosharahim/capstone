{
  "nbformat": 4,
  "nbformat_minor": 0,
  "metadata": {
    "colab": {
      "name": "emotion_recognition.ipynb",
      "provenance": [],
      "mount_file_id": "1D5i10y97quAPPSJOv1MfV3GT8SU9SDR7",
      "authorship_tag": "ABX9TyMgWsi9b+ty36Y6dT1FdX0D",
      "include_colab_link": true
    },
    "kernelspec": {
      "name": "python3",
      "display_name": "Python 3"
    },
    "language_info": {
      "name": "python"
    }
  },
  "cells": [
    {
      "cell_type": "markdown",
      "metadata": {
        "id": "view-in-github",
        "colab_type": "text"
      },
      "source": [
        "<a href=\"https://colab.research.google.com/github/anosharahim/capstone/blob/master/emotion_recognition.ipynb\" target=\"_parent\"><img src=\"https://colab.research.google.com/assets/colab-badge.svg\" alt=\"Open In Colab\"/></a>"
      ]
    },
    {
      "cell_type": "code",
      "source": [
        "from google.colab import drive\n",
        "drive.mount('/gdrive')\n",
        "%cd /gdrive"
      ],
      "metadata": {
        "colab": {
          "base_uri": "https://localhost:8080/"
        },
        "id": "HjyI19r4OZLR",
        "outputId": "30d5e7ce-ebf1-486a-d490-f77541739c3e"
      },
      "execution_count": 1,
      "outputs": [
        {
          "output_type": "stream",
          "name": "stdout",
          "text": [
            "Mounted at /gdrive\n",
            "/gdrive\n"
          ]
        }
      ]
    },
    {
      "cell_type": "code",
      "source": [
        "import pandas as pd\n",
        "import os\n",
        "import zipfile"
      ],
      "metadata": {
        "id": "aWCKXbRvOaUU"
      },
      "execution_count": 24,
      "outputs": []
    },
    {
      "cell_type": "code",
      "source": [
        "#zipped_path = '/content/drive/MyDrive/Capstone/datasets/archive.zip'\n",
        "#target_path = \"/content/drive/MyDrive/Capstone/FER2013'\n",
        "#unzip and extract files to gdrive\n",
        "#!unzip zipped_path -d target_path"
      ],
      "metadata": {
        "id": "LeQxFlq2TNsZ"
      },
      "execution_count": 38,
      "outputs": []
    },
    {
      "cell_type": "code",
      "source": [
        "train_path = '/content/drive/MyDrive/Capstone/FER2013/train/'\n",
        "test_path = '/content/drive/MyDrive/Capstone/FER2013/test/'\n",
        "\n",
        "train_data = []\n",
        "train_label = []\n",
        "test_data = []\n",
        "test_label = []\n",
        "\n",
        "num_expressions = 6\n",
        "labels = ['angry', 'Fear', 'Happy', 'Neutral', 'Sad', 'Surprise']\n"
      ],
      "metadata": {
        "id": "M6u_b4PSWuig"
      },
      "execution_count": 52,
      "outputs": []
    },
    {
      "cell_type": "code",
      "source": [
        "categories = os.listdir(train_path)\n",
        "categories"
      ],
      "metadata": {
        "colab": {
          "base_uri": "https://localhost:8080/"
        },
        "id": "IGzINe83aUnz",
        "outputId": "116160f2-47d0-4dd5-cd48-8b385fbaab72"
      },
      "execution_count": 57,
      "outputs": [
        {
          "output_type": "execute_result",
          "data": {
            "text/plain": [
              "['angry', 'disgusted', 'fearful', 'happy', 'neutral', 'sad', 'surprised']"
            ]
          },
          "metadata": {},
          "execution_count": 57
        }
      ]
    },
    {
      "cell_type": "code",
      "source": [
        ""
      ],
      "metadata": {
        "id": "dIYjwohdaXro"
      },
      "execution_count": null,
      "outputs": []
    }
  ]
}